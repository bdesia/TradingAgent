{
 "cells": [
  {
   "cell_type": "code",
   "execution_count": null,
   "id": "4a89ead0",
   "metadata": {},
   "outputs": [
    {
     "name": "stdout",
     "output_type": "stream",
     "text": [
      "Downloading data for SATL...\n"
     ]
    },
    {
     "name": "stderr",
     "output_type": "stream",
     "text": [
      "c:\\Users\\Braian\\OneDrive\\Escritorio\\GitHub\\CEIA\\ReinforcedLearning\\TradingAgent\\src\\utils.py:20: FutureWarning: YF.download() has changed argument auto_adjust default to True\n",
      "  data = yf.download(ticker, start=start, end=end)\n",
      "[*********************100%***********************]  1 of 1 completed"
     ]
    },
    {
     "name": "stdout",
     "output_type": "stream",
     "text": [
      "Data for SATL downloaded successfully.\n",
      "----------------------------------------\n"
     ]
    },
    {
     "name": "stderr",
     "output_type": "stream",
     "text": [
      "\n"
     ]
    }
   ],
   "source": [
    "from datetime import date\n",
    "from utils import download_ticker\n",
    "\n",
    "# tickers_list = ['AAPL', 'TSLA']\n",
    "tickers_list = ['SATL']\n",
    "\n",
    "today_str = date.today().strftime('%Y-%m-%d')\n",
    "\n",
    "for ticker in tickers_list:\n",
    "    print(f\"Downloading data for {ticker}...\")\n",
    "    download_ticker(ticker, start = '2024-12-25', end = today_str, filename = f'{ticker}_stock_data.csv')\n",
    "    print(f\"Data for {ticker} downloaded successfully.\")\n",
    "    print(\"-\" * 40)"
   ]
  },
  {
   "cell_type": "code",
   "execution_count": null,
   "id": "e9ef2f99",
   "metadata": {},
   "outputs": [],
   "source": []
  }
 ],
 "metadata": {
  "kernelspec": {
   "display_name": "tradingagent-njwG2tzL-py3.11",
   "language": "python",
   "name": "python3"
  },
  "language_info": {
   "codemirror_mode": {
    "name": "ipython",
    "version": 3
   },
   "file_extension": ".py",
   "mimetype": "text/x-python",
   "name": "python",
   "nbconvert_exporter": "python",
   "pygments_lexer": "ipython3",
   "version": "3.11.3"
  }
 },
 "nbformat": 4,
 "nbformat_minor": 5
}
